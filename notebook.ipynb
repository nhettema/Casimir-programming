{
 "cells": [
  {
   "cell_type": "code",
<<<<<<< HEAD
   "execution_count": null,
   "id": "d8c41460-d8f6-49df-992c-dfde7b622317",
=======
   "execution_count": 3,
   "id": "52b14f10-bfa0-4cf9-95c0-fffdd284a96e",
   "metadata": {},
   "outputs": [],
   "source": [
    "import numpy as np\n",
    "import scipy.integrate as scint\n",
    "\n",
    "def G(u, v, f, k):\n",
    "    return f * (1 - u) - u*v**2\n",
    "\n",
    "def H(u, v, f, k):\n",
    "    return -(f + k) * v + u*v**2\n",
    "\n",
    "def grayscott1d(y, t, f, k, Du, Dv, dx):\n",
    "    \"\"\"\n",
    "    Differential equations for the 1-D Gray-Scott equations.\n",
    "\n",
    "    The ODEs are derived using the method of lines.\n",
    "    \"\"\"\n",
    "    # The vectors u and v are interleaved in y.  We define\n",
    "    # views of u and v by slicing y.\n",
    "    u = y[::2]\n",
    "    v = y[1::2]\n",
    "\n",
    "    # dydt is the return value of this function.\n",
    "    dydt = np.empty_like(y)\n",
    "\n",
    "    # Just like u and v are views of the interleaved vectors\n",
    "    # in y, dudt and dvdt are views of the interleaved output\n",
    "    # vectors in dydt.\n",
    "    dudt = dydt[::2]\n",
    "    dvdt = dydt[1::2]\n",
    "\n",
    "    # Compute du/dt and dv/dt.  The end points and the interior points\n",
    "    # are handled separately.\n",
    "    dudt[0]    = G(u[0],    v[0],    f, k) + Du * (-2.0*u[0] + 2.0*u[1]) / dx**2\n",
    "    dudt[1:-1] = G(u[1:-1], v[1:-1], f, k) + Du * np.diff(u,2) / dx**2\n",
    "    dudt[-1]   = G(u[-1],   v[-1],   f, k) + Du * (- 2.0*u[-1] + 2.0*u[-2]) / dx**2\n",
    "    dvdt[0]    = H(u[0],    v[0],    f, k) + Dv * (-2.0*v[0] + 2.0*v[1]) / dx**2\n",
    "    dvdt[1:-1] = H(u[1:-1], v[1:-1], f, k) + Dv * np.diff(v,2) / dx**2\n",
    "    dvdt[-1]   = H(u[-1],   v[-1],   f, k) + Dv * (-2.0*v[-1] + 2.0*v[-2]) / dx**2\n",
    "\n",
    "    return dydt\n",
    "\n",
    "\n",
    "rng = np.random.default_rng()\n",
    "\n",
    "y0 = rng.standard_normal(5000)\n",
    "\n",
    "t = np.linspace(0, 50, 11)\n",
    "\n",
    "f = 0.024\n",
    "\n",
    "k = 0.055\n",
    "\n",
    "Du = 0.01\n",
    "\n",
    "Dv = 0.005\n",
    "\n",
    "dx = 0.025\n",
    "\n",
    "sol = scint.odeint(grayscott1d, y0, t, args=(f, k, Du, Dv, dx))"
   ]
  },
  {
   "cell_type": "code",
   "execution_count": 4,
   "id": "272b1498-2924-4d3e-a4d8-43ae23c0d11f",
   "metadata": {},
   "outputs": [
    {
     "name": "stdout",
     "output_type": "stream",
     "text": [
      "[[ 4.12163960e-01  1.20258088e+00 -1.26000702e+00 ... -1.25153389e+00\n",
      "   5.71013808e-01  1.59704836e+00]\n",
      " [ 1.62052943e-01  2.29235265e-01  1.61865762e-01 ... -7.69218534e-03\n",
      "   3.78493886e-01 -8.39998465e-03]\n",
      " [ 2.21588815e-01  9.35982261e-02  2.21524915e-01 ...  2.03898796e-02\n",
      "   4.11347377e-01  2.01726741e-02]\n",
      " ...\n",
      " [ 5.94139252e-01  7.26366056e-04  5.94123427e-01 ...  4.31121226e-03\n",
      "   6.76931085e-01  4.31255607e-03]\n",
      " [ 6.37947470e-01  1.67932115e-04  6.37935359e-01 ...  2.86812346e-03\n",
      "   7.11045741e-01  2.86900148e-03]\n",
      " [ 6.77283576e-01 -6.61590260e-05  6.77274211e-01 ...  1.90296923e-03\n",
      "   7.41812203e-01  1.90351755e-03]]\n"
     ]
    }
   ],
   "source": []
  },
  {
   "cell_type": "code",
   "execution_count": null,
   "id": "417a03d9-5020-40b8-9d40-94e6d34cb799",
>>>>>>> 2cb27b871a069924318266c3d9589ab4dfb4dc8e
   "metadata": {},
   "outputs": [],
   "source": []
  }
 ],
 "metadata": {
  "kernelspec": {
   "display_name": "Python 3 (ipykernel)",
   "language": "python",
   "name": "python3"
  },
  "language_info": {
   "codemirror_mode": {
    "name": "ipython",
    "version": 3
   },
   "file_extension": ".py",
   "mimetype": "text/x-python",
   "name": "python",
   "nbconvert_exporter": "python",
   "pygments_lexer": "ipython3",
   "version": "3.9.7"
  }
 },
 "nbformat": 4,
 "nbformat_minor": 5
}
